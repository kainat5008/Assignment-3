{
  "nbformat": 4,
  "nbformat_minor": 0,
  "metadata": {
    "colab": {
      "provenance": [],
      "authorship_tag": "ABX9TyM11vl6sdJYonvPa9MQ3UvI",
      "include_colab_link": true
    },
    "kernelspec": {
      "name": "python3",
      "display_name": "Python 3"
    },
    "language_info": {
      "name": "python"
    }
  },
  "cells": [
    {
      "cell_type": "markdown",
      "metadata": {
        "id": "view-in-github",
        "colab_type": "text"
      },
      "source": [
        "<a href=\"https://colab.research.google.com/github/kainat5008/Assignment-3/blob/main/ML_Assignment_Task5_WebUI.ipynb\" target=\"_parent\"><img src=\"https://colab.research.google.com/assets/colab-badge.svg\" alt=\"Open In Colab\"/></a>"
      ]
    },
    {
      "cell_type": "code",
      "execution_count": 13,
      "metadata": {
        "colab": {
          "base_uri": "https://localhost:8080/"
        },
        "id": "wNDjDHHPsmS2",
        "outputId": "8393b9cc-737c-4dec-aadd-8437edcd1d05"
      },
      "outputs": [
        {
          "output_type": "stream",
          "name": "stdout",
          "text": [
            "Requirement already satisfied: flask in /usr/local/lib/python3.11/dist-packages (3.1.0)\n",
            "Requirement already satisfied: pyngrok in /usr/local/lib/python3.11/dist-packages (7.2.3)\n",
            "Requirement already satisfied: joblib in /usr/local/lib/python3.11/dist-packages (1.4.2)\n",
            "Requirement already satisfied: numpy in /usr/local/lib/python3.11/dist-packages (2.0.2)\n",
            "Requirement already satisfied: huggingface_hub in /usr/local/lib/python3.11/dist-packages (0.30.1)\n",
            "Requirement already satisfied: Werkzeug>=3.1 in /usr/local/lib/python3.11/dist-packages (from flask) (3.1.3)\n",
            "Requirement already satisfied: Jinja2>=3.1.2 in /usr/local/lib/python3.11/dist-packages (from flask) (3.1.6)\n",
            "Requirement already satisfied: itsdangerous>=2.2 in /usr/local/lib/python3.11/dist-packages (from flask) (2.2.0)\n",
            "Requirement already satisfied: click>=8.1.3 in /usr/local/lib/python3.11/dist-packages (from flask) (8.1.8)\n",
            "Requirement already satisfied: blinker>=1.9 in /usr/local/lib/python3.11/dist-packages (from flask) (1.9.0)\n",
            "Requirement already satisfied: PyYAML>=5.1 in /usr/local/lib/python3.11/dist-packages (from pyngrok) (6.0.2)\n",
            "Requirement already satisfied: filelock in /usr/local/lib/python3.11/dist-packages (from huggingface_hub) (3.18.0)\n",
            "Requirement already satisfied: fsspec>=2023.5.0 in /usr/local/lib/python3.11/dist-packages (from huggingface_hub) (2025.3.2)\n",
            "Requirement already satisfied: packaging>=20.9 in /usr/local/lib/python3.11/dist-packages (from huggingface_hub) (24.2)\n",
            "Requirement already satisfied: requests in /usr/local/lib/python3.11/dist-packages (from huggingface_hub) (2.32.3)\n",
            "Requirement already satisfied: tqdm>=4.42.1 in /usr/local/lib/python3.11/dist-packages (from huggingface_hub) (4.67.1)\n",
            "Requirement already satisfied: typing-extensions>=3.7.4.3 in /usr/local/lib/python3.11/dist-packages (from huggingface_hub) (4.13.1)\n",
            "Requirement already satisfied: MarkupSafe>=2.0 in /usr/local/lib/python3.11/dist-packages (from Jinja2>=3.1.2->flask) (3.0.2)\n",
            "Requirement already satisfied: charset-normalizer<4,>=2 in /usr/local/lib/python3.11/dist-packages (from requests->huggingface_hub) (3.4.1)\n",
            "Requirement already satisfied: idna<4,>=2.5 in /usr/local/lib/python3.11/dist-packages (from requests->huggingface_hub) (3.10)\n",
            "Requirement already satisfied: urllib3<3,>=1.21.1 in /usr/local/lib/python3.11/dist-packages (from requests->huggingface_hub) (2.3.0)\n",
            "Requirement already satisfied: certifi>=2017.4.17 in /usr/local/lib/python3.11/dist-packages (from requests->huggingface_hub) (2025.1.31)\n"
          ]
        }
      ],
      "source": [
        "!pip install flask pyngrok joblib numpy huggingface_hub"
      ]
    },
    {
      "cell_type": "code",
      "source": [
        "!pip install flask_ngrok"
      ],
      "metadata": {
        "colab": {
          "base_uri": "https://localhost:8080/"
        },
        "id": "URPirEEnwhDT",
        "outputId": "6582c016-63cf-4516-fd88-8176ea23c8dd"
      },
      "execution_count": 16,
      "outputs": [
        {
          "output_type": "stream",
          "name": "stdout",
          "text": [
            "Requirement already satisfied: flask_ngrok in /usr/local/lib/python3.11/dist-packages (0.0.25)\n",
            "Requirement already satisfied: Flask>=0.8 in /usr/local/lib/python3.11/dist-packages (from flask_ngrok) (3.1.0)\n",
            "Requirement already satisfied: requests in /usr/local/lib/python3.11/dist-packages (from flask_ngrok) (2.32.3)\n",
            "Requirement already satisfied: Werkzeug>=3.1 in /usr/local/lib/python3.11/dist-packages (from Flask>=0.8->flask_ngrok) (3.1.3)\n",
            "Requirement already satisfied: Jinja2>=3.1.2 in /usr/local/lib/python3.11/dist-packages (from Flask>=0.8->flask_ngrok) (3.1.6)\n",
            "Requirement already satisfied: itsdangerous>=2.2 in /usr/local/lib/python3.11/dist-packages (from Flask>=0.8->flask_ngrok) (2.2.0)\n",
            "Requirement already satisfied: click>=8.1.3 in /usr/local/lib/python3.11/dist-packages (from Flask>=0.8->flask_ngrok) (8.1.8)\n",
            "Requirement already satisfied: blinker>=1.9 in /usr/local/lib/python3.11/dist-packages (from Flask>=0.8->flask_ngrok) (1.9.0)\n",
            "Requirement already satisfied: charset-normalizer<4,>=2 in /usr/local/lib/python3.11/dist-packages (from requests->flask_ngrok) (3.4.1)\n",
            "Requirement already satisfied: idna<4,>=2.5 in /usr/local/lib/python3.11/dist-packages (from requests->flask_ngrok) (3.10)\n",
            "Requirement already satisfied: urllib3<3,>=1.21.1 in /usr/local/lib/python3.11/dist-packages (from requests->flask_ngrok) (2.3.0)\n",
            "Requirement already satisfied: certifi>=2017.4.17 in /usr/local/lib/python3.11/dist-packages (from requests->flask_ngrok) (2025.1.31)\n",
            "Requirement already satisfied: MarkupSafe>=2.0 in /usr/local/lib/python3.11/dist-packages (from Jinja2>=3.1.2->Flask>=0.8->flask_ngrok) (3.0.2)\n"
          ]
        }
      ]
    },
    {
      "cell_type": "code",
      "source": [
        "!pip install flask pyngrok joblib numpy huggingface_hub\n",
        "from flask import Flask, request, jsonify, render_template_string\n",
        "import joblib\n",
        "import numpy as np\n",
        "from huggingface_hub import hf_hub_download\n",
        "from pyngrok import ngrok\n",
        "from google.colab import userdata\n",
        "import os\n",
        "\n",
        "\n",
        "ngrok.set_auth_token(\"2vffXqpQXoZ23eS7GhOEVqjXDez_NTwqaFkXepGEVgK6E7v9\")  # Replace with your ngrok token\n",
        "\n",
        "# HTML Template with basic styling\n",
        "HTML_TEMPLATE = \"\"\"\n",
        "<!DOCTYPE html>\n",
        "<html>\n",
        "<head>\n",
        "    <title>Housing Price Predictor</title>\n",
        "    <style>\n",
        "        body { font-family: Arial; margin: 20px; }\n",
        "        input, button { padding: 8px; margin: 5px 0; width: 300px; }\n",
        "        button { background: #4CAF50; color: white; border: none; cursor: pointer; }\n",
        "        .error { color: red; }\n",
        "        .result { margin-top: 20px; font-weight: bold; }\n",
        "    </style>\n",
        "</head>\n",
        "<body>\n",
        "    <h1>California Housing Price Predictor</h1>\n",
        "    <form action=\"/predict\" method=\"post\">\n",
        "        <p>Enter 8 space-separated values (MedInc, HouseAge, etc.):</p>\n",
        "        <input type=\"text\" name=\"features\" placeholder=\"0.1 20.0 5.0 1.0 500.0 6.0 40.0 -122.0\" required>\n",
        "        <button type=\"submit\">Predict Price</button>\n",
        "    </form>\n",
        "    {% if error %}\n",
        "        <p class=\"error\">{{ error }}</p>\n",
        "    {% endif %}\n",
        "    {% if prediction %}\n",
        "        <div class=\"result\">Predicted Price: ${{ prediction }}</div>\n",
        "    {% endif %}\n",
        "</body>\n",
        "</html>\n",
        "\"\"\"\n",
        "\n",
        "app = Flask(__name__)\n",
        "\n",
        "# Load model and scaler with error handling\n",
        "try:\n",
        "    model_path = hf_hub_download(\n",
        "        repo_id=\"keenu-5008/california-housing-regression\",\n",
        "        filename=\"batch_gd_model.pkl\"\n",
        "    )\n",
        "    scaler_path = hf_hub_download(\n",
        "        repo_id=\"keenu-5008/california-housing-regression\",\n",
        "        filename=\"scaler.pkl\"\n",
        "    )\n",
        "    model = joblib.load(model_path)\n",
        "    scaler = joblib.load(scaler_path)\n",
        "    print(\"Model and scaler loaded successfully!\")\n",
        "except Exception as e:\n",
        "    print(f\"Error loading model: {str(e)}\")\n",
        "    raise\n",
        "\n",
        "@app.route('/')\n",
        "def home():\n",
        "    return render_template_string(HTML_TEMPLATE)\n",
        "\n",
        "@app.route('/predict', methods=['POST'])\n",
        "def predict():\n",
        "    try:\n",
        "        # Get and validate input\n",
        "        features = request.form['features'].strip().split()\n",
        "        print(f\"Received input: {features}\")  # Debug\n",
        "\n",
        "        if len(features) != 8:\n",
        "            return render_template_string(\n",
        "                HTML_TEMPLATE,\n",
        "                error=\"Please enter exactly 8 numbers separated by spaces\",\n",
        "                prediction=None\n",
        "            )\n",
        "\n",
        "        # Convert to numpy array\n",
        "        input_data = np.array([float(x) for x in features]).reshape(1, -1)\n",
        "        print(f\"Input array: {input_data}\")  # Debug\n",
        "\n",
        "        # Preprocess\n",
        "        scaled_data = scaler.transform(input_data)\n",
        "        scaled_data = np.c_[np.ones(scaled_data.shape[0]), scaled_data]  # Add bias term\n",
        "        print(f\"Preprocessed data: {scaled_data}\")  # Debug\n",
        "\n",
        "        # Predict\n",
        "        prediction = model.predict(scaled_data)[0] * 1000  # Convert to dollars\n",
        "        print(f\"Raw prediction: {prediction}\")  # Debug\n",
        "\n",
        "        return render_template_string(\n",
        "            HTML_TEMPLATE,\n",
        "            prediction=f\"{prediction:,.2f}\",\n",
        "            error=None\n",
        "        )\n",
        "\n",
        "    except ValueError as ve:\n",
        "        return render_template_string(\n",
        "            HTML_TEMPLATE,\n",
        "            error=f\"Invalid input: {str(ve)}\",\n",
        "            prediction=None\n",
        "        )\n",
        "    except Exception as e:\n",
        "        print(f\"Prediction error: {str(e)}\")  # Debug\n",
        "        return render_template_string(\n",
        "            HTML_TEMPLATE,\n",
        "            error=f\"Server error: {str(e)}\",\n",
        "            prediction=None\n",
        "        )\n",
        "\n",
        "# Start the app\n",
        "if __name__ == '__main__':\n",
        "    public_url = ngrok.connect(5000)\n",
        "    print(f\"\\n⭐ Access your app at: {public_url}\\n\")\n",
        "    app.run()"
      ],
      "metadata": {
        "colab": {
          "base_uri": "https://localhost:8080/"
        },
        "id": "rZQ6ezzjtQAL",
        "outputId": "1393a414-7ec7-4a4e-f9c9-4854e5dfb1eb"
      },
      "execution_count": null,
      "outputs": [
        {
          "output_type": "stream",
          "name": "stdout",
          "text": [
            "Requirement already satisfied: flask in /usr/local/lib/python3.11/dist-packages (3.1.0)\n",
            "Requirement already satisfied: pyngrok in /usr/local/lib/python3.11/dist-packages (7.2.3)\n",
            "Requirement already satisfied: joblib in /usr/local/lib/python3.11/dist-packages (1.4.2)\n",
            "Requirement already satisfied: numpy in /usr/local/lib/python3.11/dist-packages (2.0.2)\n",
            "Requirement already satisfied: huggingface_hub in /usr/local/lib/python3.11/dist-packages (0.30.1)\n",
            "Requirement already satisfied: Werkzeug>=3.1 in /usr/local/lib/python3.11/dist-packages (from flask) (3.1.3)\n",
            "Requirement already satisfied: Jinja2>=3.1.2 in /usr/local/lib/python3.11/dist-packages (from flask) (3.1.6)\n",
            "Requirement already satisfied: itsdangerous>=2.2 in /usr/local/lib/python3.11/dist-packages (from flask) (2.2.0)\n",
            "Requirement already satisfied: click>=8.1.3 in /usr/local/lib/python3.11/dist-packages (from flask) (8.1.8)\n",
            "Requirement already satisfied: blinker>=1.9 in /usr/local/lib/python3.11/dist-packages (from flask) (1.9.0)\n",
            "Requirement already satisfied: PyYAML>=5.1 in /usr/local/lib/python3.11/dist-packages (from pyngrok) (6.0.2)\n",
            "Requirement already satisfied: filelock in /usr/local/lib/python3.11/dist-packages (from huggingface_hub) (3.18.0)\n",
            "Requirement already satisfied: fsspec>=2023.5.0 in /usr/local/lib/python3.11/dist-packages (from huggingface_hub) (2025.3.2)\n",
            "Requirement already satisfied: packaging>=20.9 in /usr/local/lib/python3.11/dist-packages (from huggingface_hub) (24.2)\n",
            "Requirement already satisfied: requests in /usr/local/lib/python3.11/dist-packages (from huggingface_hub) (2.32.3)\n",
            "Requirement already satisfied: tqdm>=4.42.1 in /usr/local/lib/python3.11/dist-packages (from huggingface_hub) (4.67.1)\n",
            "Requirement already satisfied: typing-extensions>=3.7.4.3 in /usr/local/lib/python3.11/dist-packages (from huggingface_hub) (4.13.1)\n",
            "Requirement already satisfied: MarkupSafe>=2.0 in /usr/local/lib/python3.11/dist-packages (from Jinja2>=3.1.2->flask) (3.0.2)\n",
            "Requirement already satisfied: charset-normalizer<4,>=2 in /usr/local/lib/python3.11/dist-packages (from requests->huggingface_hub) (3.4.1)\n",
            "Requirement already satisfied: idna<4,>=2.5 in /usr/local/lib/python3.11/dist-packages (from requests->huggingface_hub) (3.10)\n",
            "Requirement already satisfied: urllib3<3,>=1.21.1 in /usr/local/lib/python3.11/dist-packages (from requests->huggingface_hub) (2.3.0)\n",
            "Requirement already satisfied: certifi>=2017.4.17 in /usr/local/lib/python3.11/dist-packages (from requests->huggingface_hub) (2025.1.31)\n",
            "Model and scaler loaded successfully!\n",
            "\n",
            "⭐ Access your app at: NgrokTunnel: \"https://e1ab-35-233-250-200.ngrok-free.app\" -> \"http://localhost:5000\"\n",
            "\n",
            " * Serving Flask app '__main__'\n",
            " * Debug mode: off\n"
          ]
        },
        {
          "output_type": "stream",
          "name": "stderr",
          "text": [
            "INFO:werkzeug:\u001b[31m\u001b[1mWARNING: This is a development server. Do not use it in a production deployment. Use a production WSGI server instead.\u001b[0m\n",
            " * Running on http://127.0.0.1:5000\n",
            "INFO:werkzeug:\u001b[33mPress CTRL+C to quit\u001b[0m\n",
            "INFO:werkzeug:127.0.0.1 - - [13/Apr/2025 11:15:16] \"GET / HTTP/1.1\" 200 -\n",
            "INFO:werkzeug:127.0.0.1 - - [13/Apr/2025 11:15:17] \"\u001b[33mGET /favicon.ico HTTP/1.1\u001b[0m\" 404 -\n",
            "INFO:werkzeug:127.0.0.1 - - [13/Apr/2025 11:15:20] \"POST /predict HTTP/1.1\" 200 -\n"
          ]
        },
        {
          "output_type": "stream",
          "name": "stdout",
          "text": [
            "Received input: ['8']\n"
          ]
        },
        {
          "output_type": "stream",
          "name": "stderr",
          "text": [
            "INFO:werkzeug:127.0.0.1 - - [13/Apr/2025 11:15:47] \"POST /predict HTTP/1.1\" 200 -\n"
          ]
        },
        {
          "output_type": "stream",
          "name": "stdout",
          "text": [
            "Received input: ['0.1', '0.2', '0.3', '0.4', '0.5', '0.6', '0.7', '0.8']\n",
            "Input array: [[0.1 0.2 0.3 0.4 0.5 0.6 0.7 0.8]]\n",
            "Preprocessed data: [[  1.          -1.9854439   -2.2542469   -2.15106165  -1.60822358\n",
            "   -1.25411212  -0.21565696 -16.35455373  60.02329589]]\n",
            "Prediction error: 'numpy.ndarray' object has no attribute 'predict'\n"
          ]
        },
        {
          "output_type": "stream",
          "name": "stderr",
          "text": [
            "INFO:werkzeug:127.0.0.1 - - [13/Apr/2025 11:16:15] \"POST /predict HTTP/1.1\" 200 -\n"
          ]
        },
        {
          "output_type": "stream",
          "name": "stdout",
          "text": [
            "Received input: ['0.1', '20.0', '5.0', '1.0', '500.0', '6.0', '40.0', '-122.0']\n",
            "Input array: [[ 1.00e-01  2.00e+01  5.00e+00  1.00e+00  5.00e+02  6.00e+00  4.00e+01\n",
            "  -1.22e+02]]\n",
            "Preprocessed data: [[ 1.         -1.9854439  -0.6830824  -0.18231247 -0.22318659 -0.81480661\n",
            "   0.25072898  2.03915078 -1.20548375]]\n",
            "Prediction error: 'numpy.ndarray' object has no attribute 'predict'\n"
          ]
        },
        {
          "output_type": "stream",
          "name": "stderr",
          "text": [
            "INFO:werkzeug:127.0.0.1 - - [13/Apr/2025 11:16:28] \"POST /predict HTTP/1.1\" 200 -\n"
          ]
        },
        {
          "output_type": "stream",
          "name": "stdout",
          "text": [
            "Received input: ['0.1', '20.0', '5.0', '1.0', '500.0', '6.0', '40.0', '-122.0']\n",
            "Input array: [[ 1.00e-01  2.00e+01  5.00e+00  1.00e+00  5.00e+02  6.00e+00  4.00e+01\n",
            "  -1.22e+02]]\n",
            "Preprocessed data: [[ 1.         -1.9854439  -0.6830824  -0.18231247 -0.22318659 -0.81480661\n",
            "   0.25072898  2.03915078 -1.20548375]]\n",
            "Prediction error: 'numpy.ndarray' object has no attribute 'predict'\n"
          ]
        }
      ]
    }
  ]
}