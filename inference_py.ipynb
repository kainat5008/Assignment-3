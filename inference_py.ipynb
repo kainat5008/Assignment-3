{
  "nbformat": 4,
  "nbformat_minor": 0,
  "metadata": {
    "colab": {
      "provenance": [],
      "authorship_tag": "ABX9TyNusGa0Yh0o8A6a1YQEsQjf",
      "include_colab_link": true
    },
    "kernelspec": {
      "name": "python3",
      "display_name": "Python 3"
    },
    "language_info": {
      "name": "python"
    }
  },
  "cells": [
    {
      "cell_type": "markdown",
      "metadata": {
        "id": "view-in-github",
        "colab_type": "text"
      },
      "source": [
        "<a href=\"https://colab.research.google.com/github/kainat5008/Assignment-3/blob/main/inference_py.ipynb\" target=\"_parent\"><img src=\"https://colab.research.google.com/assets/colab-badge.svg\" alt=\"Open In Colab\"/></a>"
      ]
    },
    {
      "cell_type": "code",
      "execution_count": 3,
      "metadata": {
        "colab": {
          "base_uri": "https://localhost:8080/"
        },
        "id": "R5zzS3_9PZAx",
        "outputId": "f91b7bb7-0837-4691-d064-13fd5fe79c46"
      },
      "outputs": [
        {
          "output_type": "stream",
          "name": "stdout",
          "text": [
            "=== California Housing Price Predictor ===\n",
            "Enter features separated by spaces: 8\n",
            "Error: Exactly 8 features required!\n",
            "Usage: Enter 8 numbers (e.g., '0.1 20.0 5.0 1.0 500.0 6.0 40.0 -122.0')\n"
          ]
        }
      ],
      "source": [
        "# inference.py\n",
        "import joblib\n",
        "import numpy as np\n",
        "from huggingface_hub import hf_hub_download\n",
        "\n",
        "# 1. Load Model and Scaler from Hugging Face\n",
        "def load_model():\n",
        "    model_path = hf_hub_download(\n",
        "        repo_id=\"keenu-5008/california-housing-regression\",\n",
        "        filename=\"batch_gd_model.pkl\"\n",
        "    )\n",
        "    scaler_path = hf_hub_download(\n",
        "        repo_id=\"keenu-5008/california-housing-regression\",\n",
        "        filename=\"scaler.pkl\"\n",
        "    )\n",
        "    model = joblib.load(model_path)\n",
        "    scaler = joblib.load(scaler_path)\n",
        "    return model, scaler\n",
        "\n",
        "# 2. Preprocess Input and Predict\n",
        "def predict(input_data, model, scaler):\n",
        "    # Convert input to numpy array and scale\n",
        "    input_array = np.array(input_data).reshape(1, -1)\n",
        "    scaled_input = scaler.transform(input_array)\n",
        "    # Add bias term (intercept)\n",
        "    scaled_input = np.c_[np.ones(scaled_input.shape[0]), scaled_input]\n",
        "    prediction = model.predict(scaled_input)\n",
        "    return prediction[0]\n",
        "\n",
        "# 3. Main Function (Handles User Input)\n",
        "if __name__ == \"__main__\":\n",
        "    print(\"=== California Housing Price Predictor ===\")\n",
        "    model, scaler = load_model()\n",
        "\n",
        "    # Example: Accept input via command line\n",
        "    try:\n",
        "        # Input format: \"0.1 20.0 5.0 1.0 500.0 6.0 40.0 -122.0\" (8 features)\n",
        "        user_input = input(\"Enter features separated by spaces: \").split()\n",
        "        input_data = [float(x) for x in user_input]\n",
        "\n",
        "        if len(input_data) != 8:\n",
        "            raise ValueError(\"Exactly 8 features required!\")\n",
        "\n",
        "        price = predict(input_data, model, scaler)\n",
        "        print(f\"Predicted Price: ${price * 1000:.2f}\")\n",
        "\n",
        "    except Exception as e:\n",
        "        print(f\"Error: {e}\")\n",
        "        print(\"Usage: Enter 8 numbers (e.g., '0.1 20.0 5.0 1.0 500.0 6.0 40.0 -122.0')\")"
      ]
    },
    {
      "cell_type": "code",
      "source": [
        "pip install numpy joblib huggingface_hub"
      ],
      "metadata": {
        "colab": {
          "base_uri": "https://localhost:8080/"
        },
        "id": "lPNPaGypQw4w",
        "outputId": "4dfdf0c1-492a-4c50-f900-70a404b8c8c1"
      },
      "execution_count": 5,
      "outputs": [
        {
          "output_type": "stream",
          "name": "stdout",
          "text": [
            "Requirement already satisfied: numpy in /usr/local/lib/python3.11/dist-packages (2.0.2)\n",
            "Requirement already satisfied: joblib in /usr/local/lib/python3.11/dist-packages (1.4.2)\n",
            "Requirement already satisfied: huggingface_hub in /usr/local/lib/python3.11/dist-packages (0.30.1)\n",
            "Requirement already satisfied: filelock in /usr/local/lib/python3.11/dist-packages (from huggingface_hub) (3.18.0)\n",
            "Requirement already satisfied: fsspec>=2023.5.0 in /usr/local/lib/python3.11/dist-packages (from huggingface_hub) (2025.3.2)\n",
            "Requirement already satisfied: packaging>=20.9 in /usr/local/lib/python3.11/dist-packages (from huggingface_hub) (24.2)\n",
            "Requirement already satisfied: pyyaml>=5.1 in /usr/local/lib/python3.11/dist-packages (from huggingface_hub) (6.0.2)\n",
            "Requirement already satisfied: requests in /usr/local/lib/python3.11/dist-packages (from huggingface_hub) (2.32.3)\n",
            "Requirement already satisfied: tqdm>=4.42.1 in /usr/local/lib/python3.11/dist-packages (from huggingface_hub) (4.67.1)\n",
            "Requirement already satisfied: typing-extensions>=3.7.4.3 in /usr/local/lib/python3.11/dist-packages (from huggingface_hub) (4.13.0)\n",
            "Requirement already satisfied: charset-normalizer<4,>=2 in /usr/local/lib/python3.11/dist-packages (from requests->huggingface_hub) (3.4.1)\n",
            "Requirement already satisfied: idna<4,>=2.5 in /usr/local/lib/python3.11/dist-packages (from requests->huggingface_hub) (3.10)\n",
            "Requirement already satisfied: urllib3<3,>=1.21.1 in /usr/local/lib/python3.11/dist-packages (from requests->huggingface_hub) (2.3.0)\n",
            "Requirement already satisfied: certifi>=2017.4.17 in /usr/local/lib/python3.11/dist-packages (from requests->huggingface_hub) (2025.1.31)\n"
          ]
        }
      ]
    }
  ]
}